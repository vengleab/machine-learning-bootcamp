{
 "cells": [
  {
   "cell_type": "markdown",
   "id": "47961ac8-7635-4fe0-b904-77f7ce004c2c",
   "metadata": {},
   "source": [
    "# 4. Evaluatiing a machine learning\n",
    "3 ways to evaluate Scikit-learn model/estimators\n",
    "1. Estimator `score` method\n",
    "1. The `scoring` parameter\n",
    "1. `Problem-specific` function"
   ]
  },
  {
   "cell_type": "code",
   "execution_count": 2,
   "id": "1e26ae77-c8bc-45d0-8b93-bfb36070b48e",
   "metadata": {},
   "outputs": [],
   "source": [
    "import pandas as pd\n",
    "import numpy as np"
   ]
  },
  {
   "cell_type": "code",
   "execution_count": 3,
   "id": "fc23b33c-fc96-4bf1-a37e-63c239614651",
   "metadata": {},
   "outputs": [],
   "source": [
    "heart_desease = pd.read_csv(\"./csv/heart-disease.csv\")"
   ]
  },
  {
   "cell_type": "code",
   "execution_count": 4,
   "id": "8ffaad71-13be-48f5-8d45-f272b642023c",
   "metadata": {},
   "outputs": [
    {
     "data": {
      "text/plain": [
       "RandomForestClassifier()"
      ]
     },
     "execution_count": 4,
     "metadata": {},
     "output_type": "execute_result"
    }
   ],
   "source": [
    "# Import the RandomForestClassifier\n",
    "from sklearn.ensemble import RandomForestClassifier\n",
    "from sklearn.model_selection import train_test_split\n",
    "\n",
    "# Setup random seed\n",
    "np.random.seed(42)\n",
    "\n",
    "# Mkae the data\n",
    "x = heart_desease.drop(\"target\", axis=1)\n",
    "y = heart_desease['target']\n",
    "\n",
    "X_train, X_test, Y_train, Y_test = train_test_split(x, y, test_size=.2)\n",
    "clf = RandomForestClassifier()\n",
    "clf.fit(X_train, Y_train)"
   ]
  },
  {
   "cell_type": "markdown",
   "id": "3a99d924-501e-48fa-805a-b04a8985b4d3",
   "metadata": {},
   "source": [
    "### 4.1 Evaluating a model with the score method"
   ]
  },
  {
   "cell_type": "code",
   "execution_count": 5,
   "id": "781026a4-a650-44c3-bac5-69a695ca8375",
   "metadata": {},
   "outputs": [
    {
     "data": {
      "text/plain": [
       "0.8524590163934426"
      ]
     },
     "execution_count": 5,
     "metadata": {},
     "output_type": "execute_result"
    }
   ],
   "source": [
    "clf.score(X_test, Y_test)"
   ]
  },
  {
   "cell_type": "markdown",
   "id": "11380e08-b86d-4d99-aab8-5275cfb31ddd",
   "metadata": {},
   "source": [
    "Let's do with regression problems"
   ]
  },
  {
   "cell_type": "code",
   "execution_count": 6,
   "id": "374be5b0-528c-4aac-aeeb-1806d9467e6f",
   "metadata": {},
   "outputs": [],
   "source": [
    "from sklearn.datasets import load_boston\n",
    "boston = load_boston()\n",
    "boston_df = pd.DataFrame(boston['data'], columns=boston['feature_names'])\n",
    "boston_df[\"target\"] = pd.Series(boston['target'])\n",
    "boston_df.head()\n",
    "from sklearn.ensemble import RandomForestRegressor\n",
    "np.random.seed(42)\n",
    "x = boston_df.drop('target', axis=1)\n",
    "y = boston_df['target']"
   ]
  },
  {
   "cell_type": "code",
   "execution_count": 7,
   "id": "319fafdb-ade1-4107-bfa7-0e8d13b7af29",
   "metadata": {},
   "outputs": [
    {
     "data": {
      "text/plain": [
       "RandomForestRegressor()"
      ]
     },
     "execution_count": 7,
     "metadata": {},
     "output_type": "execute_result"
    }
   ],
   "source": [
    "X_train, X_test, Y_train, Y_test = train_test_split(x,y, test_size=.2)\n",
    "\n",
    "rf = RandomForestRegressor()\n",
    "rf.fit(X_train, Y_train)"
   ]
  },
  {
   "cell_type": "code",
   "execution_count": 8,
   "id": "1a2ac22f-88d4-4877-8303-c62967d577cb",
   "metadata": {},
   "outputs": [
    {
     "data": {
      "text/plain": [
       "0.8654448653350507"
      ]
     },
     "execution_count": 8,
     "metadata": {},
     "output_type": "execute_result"
    }
   ],
   "source": [
    "rf.score(X_test, Y_test)"
   ]
  },
  {
   "cell_type": "markdown",
   "id": "6a3fbdd2-7de9-4ff6-926a-9153f4474e98",
   "metadata": {},
   "source": [
    "### 4.2 Evaluation model using the `scoring` parameter"
   ]
  },
  {
   "cell_type": "code",
   "execution_count": 10,
   "id": "5499042c-45a1-4b82-841b-002c1ab12284",
   "metadata": {},
   "outputs": [
    {
     "data": {
      "text/plain": [
       "RandomForestClassifier()"
      ]
     },
     "execution_count": 10,
     "metadata": {},
     "output_type": "execute_result"
    }
   ],
   "source": [
    "from sklearn.model_selection import cross_val_score\n",
    "from sklearn.ensemble import RandomForestClassifier\n",
    "from sklearn.model_selection import train_test_split\n",
    "\n",
    "# Setup random seed\n",
    "np.random.seed(42)\n",
    "\n",
    "# Mkae the data\n",
    "x = heart_desease.drop(\"target\", axis=1)\n",
    "y = heart_desease['target']\n",
    "\n",
    "X_train, X_test, Y_train, Y_test = train_test_split(x, y, test_size=.2)\n",
    "clf = RandomForestClassifier()\n",
    "clf.fit(X_train, Y_train)"
   ]
  },
  {
   "cell_type": "code",
   "execution_count": 11,
   "id": "ce3d0fd2-67e7-4328-8ca0-704d70134a92",
   "metadata": {},
   "outputs": [
    {
     "data": {
      "text/plain": [
       "0.8524590163934426"
      ]
     },
     "execution_count": 11,
     "metadata": {},
     "output_type": "execute_result"
    }
   ],
   "source": [
    "clf.score(X_test, Y_test)"
   ]
  },
  {
   "cell_type": "code",
   "execution_count": 15,
   "id": "7caf6957-9f8f-42b6-91b2-d70613b3a64b",
   "metadata": {},
   "outputs": [
    {
     "data": {
      "text/plain": [
       "array([0.81967213, 0.90163934, 0.80327869, 0.81666667, 0.75      ])"
      ]
     },
     "execution_count": 15,
     "metadata": {},
     "output_type": "execute_result"
    }
   ],
   "source": [
    "cross_val_score(clf, x, y, cv=5)"
   ]
  },
  {
   "cell_type": "markdown",
   "id": "a3c13fe1-4135-4067-bdcb-06a9684793e0",
   "metadata": {},
   "source": [
    "## 4.2.1 Classification model evaluation metrics\n",
    "1. Accuracy\n",
    "2. Area under ROC Curve\n",
    "3. Confusion matrix\n",
    "3. Classification reprot"
   ]
  },
  {
   "cell_type": "markdown",
   "id": "9b0fe722-6d8f-475a-bf60-c14013af25da",
   "metadata": {},
   "source": [
    "**1. Accuracy**"
   ]
  },
  {
   "cell_type": "code",
   "execution_count": 18,
   "id": "1a3b2dea-7ede-4c69-a5fe-5ead3f240db9",
   "metadata": {},
   "outputs": [
    {
     "name": "stdout",
     "output_type": "stream",
     "text": [
      "Heart disease classiffier accuracy: 0.8346994535519124\n"
     ]
    }
   ],
   "source": [
    "# scoring parameter set to None by default, which is mean accuracy\n",
    "\n",
    "print(f\"Heart disease classiffier accuracy: {np.mean(cross_val_score(clf, x, y, cv=5, scoring=None))}\")"
   ]
  },
  {
   "cell_type": "markdown",
   "id": "fa3ff4d7-fdcd-4057-9fa7-638dae90e325",
   "metadata": {},
   "source": [
    "**2. Area under ROC curvve** : area under receiver operating charateristic curve (AUC/ROC)\n",
    "\n",
    "- Area under curve (AUC)\n",
    "- ROC Curve\n",
    "\n",
    "ROC curves are a comparison of a model's true positive rate (TPR) versus a model false positive rate (FPR)"
   ]
  },
  {
   "cell_type": "code",
   "execution_count": 21,
   "id": "2fbc274c-9302-4704-a981-16a8b30d2583",
   "metadata": {},
   "outputs": [
    {
     "data": {
      "text/plain": [
       "array([[0.89, 0.11],\n",
       "       [0.49, 0.51],\n",
       "       [0.43, 0.57],\n",
       "       [0.84, 0.16],\n",
       "       [0.18, 0.82],\n",
       "       [0.14, 0.86],\n",
       "       [0.36, 0.64],\n",
       "       [0.95, 0.05],\n",
       "       [0.99, 0.01],\n",
       "       [0.47, 0.53]])"
      ]
     },
     "execution_count": 21,
     "metadata": {},
     "output_type": "execute_result"
    }
   ],
   "source": [
    "from sklearn.metrics import roc_curve\n",
    "\n",
    "# Make prediction with probabilities\n",
    "y_probs = clf.predict_proba(X_test)\n",
    "y_probs[:10]"
   ]
  },
  {
   "cell_type": "code",
   "execution_count": 22,
   "id": "ed29fb8e-7c1e-48c5-bdc7-06861b4e73f7",
   "metadata": {},
   "outputs": [
    {
     "data": {
      "text/plain": [
       "array([0.11, 0.51, 0.57, 0.16, 0.82, 0.86, 0.64, 0.05, 0.01, 0.53, 0.74,\n",
       "       0.3 , 0.89, 0.05, 0.97, 0.98, 0.99, 0.16, 0.05, 0.02, 0.49, 0.11,\n",
       "       0.62, 0.71, 0.74, 0.66, 0.8 , 0.78, 0.17, 0.85, 0.06, 0.08, 0.04,\n",
       "       0.38, 0.54, 0.11, 0.56, 0.84, 0.67, 0.92, 0.87, 0.83, 0.82, 0.62,\n",
       "       0.68, 0.23, 0.61, 1.  , 0.17, 0.03, 0.15, 0.2 , 0.75, 0.75, 0.13,\n",
       "       0.07, 0.29, 0.99, 0.13, 0.  , 0.14])"
      ]
     },
     "execution_count": 22,
     "metadata": {},
     "output_type": "execute_result"
    }
   ],
   "source": [
    "y_probs_positive = y_probs[:, 1]\n",
    "y_probs_positive"
   ]
  },
  {
   "cell_type": "code",
   "execution_count": 23,
   "id": "1d79abf7-9a87-42b7-9233-605579b3898f",
   "metadata": {},
   "outputs": [],
   "source": [
    "# calc fpr, tpr and threshold\n",
    "fpr, tpr, thresholds = roc_curve(Y_test, y_probs_positive)"
   ]
  },
  {
   "cell_type": "code",
   "execution_count": 25,
   "id": "3b95be11-ad4c-4ff4-9b3b-2f3e4a434d92",
   "metadata": {},
   "outputs": [
    {
     "data": {
      "image/png": "[encoded data removed]",
      "text/plain": [
       "<Figure size 432x288 with 1 Axes>"
      ]
     },
     "metadata": {
      "needs_background": "light"
     },
     "output_type": "display_data"
    }
   ],
   "source": [
    "# Create a function for plotting roc curves\n",
    "import matplotlib.pyplot as plt\n",
    "\n",
    "def plot_roc_curse(fpr, tpr):\n",
    "    \"\"\"\n",
    "        Plots a roc curve given the false positive rate\n",
    "        and true positive rate\n",
    "    \"\"\"\n",
    "    plt.plot(fpr, tpr, color='orange', label='ROC')\n",
    "    # Plot line with no predictive power (baseline)\n",
    "    plt.plot([0,1], [0,1], color='darkblue', linestyle='--', label='Guessing')\n",
    "    \n",
    "    plt.xlabel(\"False positive rate \")\n",
    "    plt.ylabel(\"True positive rate \")\n",
    "    plt.title('Receiver Operating Charateristic (ROC) Curve')\n",
    "    plt.legend()\n",
    "    plt.show()\n",
    "    \n",
    "plot_roc_curse(fpr, tpr)"
   ]
  },
  {
   "cell_type": "code",
   "execution_count": 28,
   "id": "67f1be99-6ce4-4629-bdd0-d042014bd317",
   "metadata": {},
   "outputs": [
    {
     "data": {
      "text/plain": [
       "0.9304956896551724"
      ]
     },
     "execution_count": 28,
     "metadata": {},
     "output_type": "execute_result"
    }
   ],
   "source": [
    "from sklearn.metrics import roc_auc_score\n",
    "\n",
    "roc_auc_score(Y_test, y_probs_positive)"
   ]
  },
  {
   "cell_type": "code",
   "execution_count": 30,
   "id": "8c772bf4-1001-42b3-9fa3-5d84fb387746",
   "metadata": {},
   "outputs": [
    {
     "data": {
      "image/png": "[encoded data removed]",
      "text/plain": [
       "<Figure size 432x288 with 1 Axes>"
      ]
     },
     "metadata": {
      "needs_background": "light"
     },
     "output_type": "display_data"
    }
   ],
   "source": [
    "# Plot perfect ROC Curve and AUC score\n",
    "fpr, tpr, thresholds = roc_curve(Y_test, Y_test)\n",
    "plot_roc_curse(fpr, tpr)"
   ]
  },
  {
   "cell_type": "code",
   "execution_count": 32,
   "id": "40051a95-41e0-41b0-9497-f024b9573b9f",
   "metadata": {},
   "outputs": [
    {
     "data": {
      "text/plain": [
       "1.0"
      ]
     },
     "execution_count": 32,
     "metadata": {},
     "output_type": "execute_result"
    }
   ],
   "source": [
    "roc_auc_score(Y_test, Y_test)"
   ]
  },
  {
   "cell_type": "markdown",
   "id": "283bb016-5105-41a7-9b5d-0d96c0f035f5",
   "metadata": {},
   "source": [
    "**3. Confusion matrix**\n",
    "\n",
    "a quick way to compare labels a model predicts and actual labels it was supposed to predict.\n",
    "In essence, giving you an idea of where the model is getting confuse"
   ]
  },
  {
   "cell_type": "code",
   "execution_count": null,
   "id": "fe1c6a3b-2b58-4222-bbc2-2523b906471b",
   "metadata": {},
   "outputs": [],
   "source": []
  }
 ],
 "metadata": {
  "kernelspec": {
   "display_name": "Python 3",
   "language": "python",
   "name": "python3"
  },
  "language_info": {
   "codemirror_mode": {
    "name": "ipython",
    "version": 3
   },
   "file_extension": ".py",
   "mimetype": "text/x-python",
   "name": "python",
   "nbconvert_exporter": "python",
   "pygments_lexer": "ipython3",
   "version": "3.8.8"
  }
 },
 "nbformat": 4,
 "nbformat_minor": 5
}
