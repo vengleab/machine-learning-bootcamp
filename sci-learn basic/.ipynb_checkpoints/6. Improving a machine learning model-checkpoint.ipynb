{
 "cells": [
  {
   "cell_type": "markdown",
   "id": "265a9830-e172-4e73-8d78-7a1afd7624a8",
   "metadata": {},
   "source": [
    "# 5. Improving a model\n",
    "\n",
    "First prediction = baseline predictions\n",
    "First model = baseline model\n",
    "\n",
    "**From a data perspectives**\n",
    "* Could we collect more data? ( generally, the more data, the better)\n",
    "* Could we improve our data?\n",
    "\n",
    "**From a model perspectives**\n",
    "* Is there a better model we use\n",
    "* Could we improve the current model?\n",
    "\n",
    "**Hyperparameters vs Parameters**\n",
    "* Paremeters = model find these patterns in data\n",
    "* Hyperparameters = settings on a model you can adjuest to (potentially) improve its ability to find patterns\n",
    "\n",
    "## Three ways to adjust hyperparameters\n",
    "1. By hand\n",
    "2. Randomly with RandomSearchCV\n",
    "3. Exhaustively with GridSearchCV"
   ]
  },
  {
   "cell_type": "code",
   "execution_count": 1,
   "id": "e331b778-c66b-487d-aba2-4c8e55b620e8",
   "metadata": {},
   "outputs": [
    {
     "data": {
      "text/plain": [
       "{'bootstrap': True,\n",
       " 'ccp_alpha': 0.0,\n",
       " 'class_weight': None,\n",
       " 'criterion': 'gini',\n",
       " 'max_depth': None,\n",
       " 'max_features': 'auto',\n",
       " 'max_leaf_nodes': None,\n",
       " 'max_samples': None,\n",
       " 'min_impurity_decrease': 0.0,\n",
       " 'min_impurity_split': None,\n",
       " 'min_samples_leaf': 1,\n",
       " 'min_samples_split': 2,\n",
       " 'min_weight_fraction_leaf': 0.0,\n",
       " 'n_estimators': 100,\n",
       " 'n_jobs': None,\n",
       " 'oob_score': False,\n",
       " 'random_state': None,\n",
       " 'verbose': 0,\n",
       " 'warm_start': False}"
      ]
     },
     "execution_count": 1,
     "metadata": {},
     "output_type": "execute_result"
    }
   ],
   "source": [
    "from sklearn.ensemble import RandomForestClassifier\n",
    "clf = RandomForestClassifier(n_estimators=100)\n",
    "clf.get_params()"
   ]
  },
  {
   "cell_type": "code",
   "execution_count": null,
   "id": "78e0e702-ba29-4f91-b751-d5543db0219a",
   "metadata": {},
   "outputs": [],
   "source": []
  }
 ],
 "metadata": {
  "kernelspec": {
   "display_name": "Python 3",
   "language": "python",
   "name": "python3"
  },
  "language_info": {
   "codemirror_mode": {
    "name": "ipython",
    "version": 3
   },
   "file_extension": ".py",
   "mimetype": "text/x-python",
   "name": "python",
   "nbconvert_exporter": "python",
   "pygments_lexer": "ipython3",
   "version": "3.8.8"
  }
 },
 "nbformat": 4,
 "nbformat_minor": 5
}
